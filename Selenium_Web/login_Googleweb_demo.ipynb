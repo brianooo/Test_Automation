{
 "cells": [
  {
   "cell_type": "code",
   "execution_count": 16,
   "metadata": {},
   "outputs": [],
   "source": [
    "from selenium.webdriver.common.keys import Keys\n",
    "#from selenium.webdriver.support.ui import Select\n",
    "#from selenium.webdriver.common.action_chains import ActionChains\n",
    "from selenium import webdriver\n",
    "from time import sleep\n",
    "\n",
    "#opt = webdriver.ChromeOptions()\n",
    "#opt.add_experimental_option('prefs', {'profile.default_content_setting_values':{'notifications':2}})\n",
    "browser = webdriver.Chrome()\n",
    "browser.get('https://www.google.com/')\n",
    "browser.maximize_window()\n",
    "browser.find_element_by_id('gb_70').click()\n",
    "sleep(3)\n",
    "\n",
    "browser.find_element_by_id('identifierId').send_keys('brian02042005@gmail.com')\n",
    "browser.find_element_by_id('identifierNext').click()\n",
    "sleep(3)\n",
    "\n",
    "browser.find_element_by_name('password').send_keys('10020521')\n",
    "browser.find_element_by_id('passwordNext').click()\n",
    "sleep(3)\n",
    "\n",
    "browser.find_element_by_name('q').send_keys('python')\n",
    "browser.find_element_by_name('q').send_keys(Keys.ENTER)\n",
    "sleep(3)\n",
    "#browser.find_element_by_class_name('gNO89b').send_keys(Keys.ENTER)\n",
    "#browser.find_element_by_class_name('RveJvd snByac').click()\n",
    "\n",
    "browser.find_element_by_partial_link_text('Welcome').click()\n",
    "sleep(3)\n",
    "\n",
    "browser.find_element_by_link_text('Python News').click()"
   ]
  },
  {
   "cell_type": "code",
   "execution_count": null,
   "metadata": {},
   "outputs": [],
   "source": []
  }
 ],
 "metadata": {
  "kernelspec": {
   "display_name": "Python 3",
   "language": "python",
   "name": "python3"
  },
  "language_info": {
   "codemirror_mode": {
    "name": "ipython",
    "version": 3
   },
   "file_extension": ".py",
   "mimetype": "text/x-python",
   "name": "python",
   "nbconvert_exporter": "python",
   "pygments_lexer": "ipython3",
   "version": "3.7.3"
  }
 },
 "nbformat": 4,
 "nbformat_minor": 2
}
