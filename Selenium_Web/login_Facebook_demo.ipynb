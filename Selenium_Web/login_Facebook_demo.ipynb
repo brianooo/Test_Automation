{
 "cells": [
  {
   "cell_type": "code",
   "execution_count": 3,
   "metadata": {},
   "outputs": [],
   "source": [
    "from selenium import webdriver\n",
    "\n",
    "opt = webdriver.ChromeOptions()\n",
    "\n",
    "opt.add_experimental_option('prefs', {'profile.default_content_setting_values': {'notifications':2}})\n",
    "\n",
    "browser = webdriver.Chrome(options=opt)    # block the pop-up notification\n",
    "\n",
    "browser.get('http://www.facebook.com')\n",
    "browser.maximize_window()\n",
    "browser.find_element_by_id('email').send_keys('brian02042005@yahoo.com.tw')\n",
    "browser.find_element_by_id('pass').send_keys('ann5/4ao4')\n",
    "browser.find_element_by_id('loginbutton').click()\n"
   ]
  },
  {
   "cell_type": "code",
   "execution_count": null,
   "metadata": {},
   "outputs": [],
   "source": []
  }
 ],
 "metadata": {
  "kernelspec": {
   "display_name": "Python 3",
   "language": "python",
   "name": "python3"
  },
  "language_info": {
   "codemirror_mode": {
    "name": "ipython",
    "version": 3
   },
   "file_extension": ".py",
   "mimetype": "text/x-python",
   "name": "python",
   "nbconvert_exporter": "python",
   "pygments_lexer": "ipython3",
   "version": "3.7.3"
  }
 },
 "nbformat": 4,
 "nbformat_minor": 2
}
